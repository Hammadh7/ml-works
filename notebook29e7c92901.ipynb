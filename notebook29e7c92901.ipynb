{
 "cells": [
  {
   "cell_type": "code",
   "execution_count": 1,
   "id": "af515cf5",
   "metadata": {
    "_cell_guid": "b1076dfc-b9ad-4769-8c92-a6c4dae69d19",
    "_uuid": "8f2839f25d086af736a60e9eeb907d3b93b6e0e5",
    "execution": {
     "iopub.execute_input": "2025-02-08T10:14:25.496189Z",
     "iopub.status.busy": "2025-02-08T10:14:25.495861Z",
     "iopub.status.idle": "2025-02-08T10:14:26.439060Z",
     "shell.execute_reply": "2025-02-08T10:14:26.437991Z"
    },
    "papermill": {
     "duration": 0.951495,
     "end_time": "2025-02-08T10:14:26.441004",
     "exception": false,
     "start_time": "2025-02-08T10:14:25.489509",
     "status": "completed"
    },
    "tags": []
   },
   "outputs": [],
   "source": [
    "# This Python 3 environment comes with many helpful analytics libraries installed\n",
    "# It is defined by the kaggle/python Docker image: https://github.com/kaggle/docker-python\n",
    "# For example, here's several helpful packages to load\n",
    "\n",
    "import numpy as np # linear algebra\n",
    "import pandas as pd # data processing, CSV file I/O (e.g. pd.read_csv)\n",
    "\n",
    "# Input data files are available in the read-only \"../input/\" directory\n",
    "# For example, running this (by clicking run or pressing Shift+Enter) will list all files under the input directory\n",
    "\n",
    "import os\n",
    "for dirname, _, filenames in os.walk('/kaggle/input'):\n",
    "    for filename in filenames:\n",
    "        print(os.path.join(dirname, filename))\n",
    "\n",
    "# You can write up to 20GB to the current directory (/kaggle/working/) that gets preserved as output when you create a version using \"Save & Run All\" \n",
    "# You can also write temporary files to /kaggle/temp/, but they won't be saved outside of the current session"
   ]
  },
  {
   "cell_type": "code",
   "execution_count": 2,
   "id": "5aa168ab",
   "metadata": {
    "execution": {
     "iopub.execute_input": "2025-02-08T10:14:26.451689Z",
     "iopub.status.busy": "2025-02-08T10:14:26.451236Z",
     "iopub.status.idle": "2025-02-08T10:14:26.455248Z",
     "shell.execute_reply": "2025-02-08T10:14:26.454415Z"
    },
    "papermill": {
     "duration": 0.010764,
     "end_time": "2025-02-08T10:14:26.456633",
     "exception": false,
     "start_time": "2025-02-08T10:14:26.445869",
     "status": "completed"
    },
    "tags": []
   },
   "outputs": [],
   "source": [
    "import matplotlib.pyplot as mpl"
   ]
  },
  {
   "cell_type": "code",
   "execution_count": 3,
   "id": "197d052d",
   "metadata": {
    "execution": {
     "iopub.execute_input": "2025-02-08T10:14:26.466817Z",
     "iopub.status.busy": "2025-02-08T10:14:26.466408Z",
     "iopub.status.idle": "2025-02-08T10:14:26.812122Z",
     "shell.execute_reply": "2025-02-08T10:14:26.811087Z"
    },
    "papermill": {
     "duration": 0.352712,
     "end_time": "2025-02-08T10:14:26.813947",
     "exception": false,
     "start_time": "2025-02-08T10:14:26.461235",
     "status": "completed"
    },
    "tags": []
   },
   "outputs": [],
   "source": [
    "house = pd.read_csv('https://github.com/YBIFoundation/Dataset/raw/main/Boston.csv')\n"
   ]
  },
  {
   "cell_type": "code",
   "execution_count": 4,
   "id": "5ffdb4f7",
   "metadata": {
    "execution": {
     "iopub.execute_input": "2025-02-08T10:14:26.824253Z",
     "iopub.status.busy": "2025-02-08T10:14:26.823903Z",
     "iopub.status.idle": "2025-02-08T10:14:26.857400Z",
     "shell.execute_reply": "2025-02-08T10:14:26.856121Z"
    },
    "papermill": {
     "duration": 0.040738,
     "end_time": "2025-02-08T10:14:26.859350",
     "exception": false,
     "start_time": "2025-02-08T10:14:26.818612",
     "status": "completed"
    },
    "tags": []
   },
   "outputs": [
    {
     "data": {
      "text/html": [
       "<div>\n",
       "<style scoped>\n",
       "    .dataframe tbody tr th:only-of-type {\n",
       "        vertical-align: middle;\n",
       "    }\n",
       "\n",
       "    .dataframe tbody tr th {\n",
       "        vertical-align: top;\n",
       "    }\n",
       "\n",
       "    .dataframe thead th {\n",
       "        text-align: right;\n",
       "    }\n",
       "</style>\n",
       "<table border=\"1\" class=\"dataframe\">\n",
       "  <thead>\n",
       "    <tr style=\"text-align: right;\">\n",
       "      <th></th>\n",
       "      <th>CRIM</th>\n",
       "      <th>ZN</th>\n",
       "      <th>INDUS</th>\n",
       "      <th>CHAS</th>\n",
       "      <th>NX</th>\n",
       "      <th>RM</th>\n",
       "      <th>AGE</th>\n",
       "      <th>DIS</th>\n",
       "      <th>RAD</th>\n",
       "      <th>TAX</th>\n",
       "      <th>PTRATIO</th>\n",
       "      <th>B</th>\n",
       "      <th>LSTAT</th>\n",
       "      <th>MEDV</th>\n",
       "    </tr>\n",
       "  </thead>\n",
       "  <tbody>\n",
       "    <tr>\n",
       "      <th>0</th>\n",
       "      <td>0.00632</td>\n",
       "      <td>18.0</td>\n",
       "      <td>2.31</td>\n",
       "      <td>0</td>\n",
       "      <td>0.538</td>\n",
       "      <td>6.575</td>\n",
       "      <td>65.2</td>\n",
       "      <td>4.0900</td>\n",
       "      <td>1</td>\n",
       "      <td>296.0</td>\n",
       "      <td>15.3</td>\n",
       "      <td>396.90</td>\n",
       "      <td>4.98</td>\n",
       "      <td>24.0</td>\n",
       "    </tr>\n",
       "    <tr>\n",
       "      <th>1</th>\n",
       "      <td>0.02731</td>\n",
       "      <td>0.0</td>\n",
       "      <td>7.07</td>\n",
       "      <td>0</td>\n",
       "      <td>0.469</td>\n",
       "      <td>6.421</td>\n",
       "      <td>78.9</td>\n",
       "      <td>4.9671</td>\n",
       "      <td>2</td>\n",
       "      <td>242.0</td>\n",
       "      <td>17.8</td>\n",
       "      <td>396.90</td>\n",
       "      <td>9.14</td>\n",
       "      <td>21.6</td>\n",
       "    </tr>\n",
       "    <tr>\n",
       "      <th>2</th>\n",
       "      <td>0.02729</td>\n",
       "      <td>0.0</td>\n",
       "      <td>7.07</td>\n",
       "      <td>0</td>\n",
       "      <td>0.469</td>\n",
       "      <td>7.185</td>\n",
       "      <td>61.1</td>\n",
       "      <td>4.9671</td>\n",
       "      <td>2</td>\n",
       "      <td>242.0</td>\n",
       "      <td>17.8</td>\n",
       "      <td>392.83</td>\n",
       "      <td>4.03</td>\n",
       "      <td>34.7</td>\n",
       "    </tr>\n",
       "    <tr>\n",
       "      <th>3</th>\n",
       "      <td>0.03237</td>\n",
       "      <td>0.0</td>\n",
       "      <td>2.18</td>\n",
       "      <td>0</td>\n",
       "      <td>0.458</td>\n",
       "      <td>6.998</td>\n",
       "      <td>45.8</td>\n",
       "      <td>6.0622</td>\n",
       "      <td>3</td>\n",
       "      <td>222.0</td>\n",
       "      <td>18.7</td>\n",
       "      <td>394.63</td>\n",
       "      <td>2.94</td>\n",
       "      <td>33.4</td>\n",
       "    </tr>\n",
       "    <tr>\n",
       "      <th>4</th>\n",
       "      <td>0.06905</td>\n",
       "      <td>0.0</td>\n",
       "      <td>2.18</td>\n",
       "      <td>0</td>\n",
       "      <td>0.458</td>\n",
       "      <td>7.147</td>\n",
       "      <td>54.2</td>\n",
       "      <td>6.0622</td>\n",
       "      <td>3</td>\n",
       "      <td>222.0</td>\n",
       "      <td>18.7</td>\n",
       "      <td>396.90</td>\n",
       "      <td>5.33</td>\n",
       "      <td>36.2</td>\n",
       "    </tr>\n",
       "  </tbody>\n",
       "</table>\n",
       "</div>"
      ],
      "text/plain": [
       "      CRIM    ZN  INDUS  CHAS     NX     RM   AGE     DIS  RAD    TAX  \\\n",
       "0  0.00632  18.0   2.31     0  0.538  6.575  65.2  4.0900    1  296.0   \n",
       "1  0.02731   0.0   7.07     0  0.469  6.421  78.9  4.9671    2  242.0   \n",
       "2  0.02729   0.0   7.07     0  0.469  7.185  61.1  4.9671    2  242.0   \n",
       "3  0.03237   0.0   2.18     0  0.458  6.998  45.8  6.0622    3  222.0   \n",
       "4  0.06905   0.0   2.18     0  0.458  7.147  54.2  6.0622    3  222.0   \n",
       "\n",
       "   PTRATIO       B  LSTAT  MEDV  \n",
       "0     15.3  396.90   4.98  24.0  \n",
       "1     17.8  396.90   9.14  21.6  \n",
       "2     17.8  392.83   4.03  34.7  \n",
       "3     18.7  394.63   2.94  33.4  \n",
       "4     18.7  396.90   5.33  36.2  "
      ]
     },
     "execution_count": 4,
     "metadata": {},
     "output_type": "execute_result"
    }
   ],
   "source": [
    "house.head()"
   ]
  },
  {
   "cell_type": "code",
   "execution_count": 5,
   "id": "312353b5",
   "metadata": {
    "execution": {
     "iopub.execute_input": "2025-02-08T10:14:26.870775Z",
     "iopub.status.busy": "2025-02-08T10:14:26.870369Z",
     "iopub.status.idle": "2025-02-08T10:14:26.897764Z",
     "shell.execute_reply": "2025-02-08T10:14:26.896627Z"
    },
    "papermill": {
     "duration": 0.035227,
     "end_time": "2025-02-08T10:14:26.899570",
     "exception": false,
     "start_time": "2025-02-08T10:14:26.864343",
     "status": "completed"
    },
    "tags": []
   },
   "outputs": [
    {
     "name": "stdout",
     "output_type": "stream",
     "text": [
      "<class 'pandas.core.frame.DataFrame'>\n",
      "RangeIndex: 506 entries, 0 to 505\n",
      "Data columns (total 14 columns):\n",
      " #   Column   Non-Null Count  Dtype  \n",
      "---  ------   --------------  -----  \n",
      " 0   CRIM     506 non-null    float64\n",
      " 1   ZN       506 non-null    float64\n",
      " 2   INDUS    506 non-null    float64\n",
      " 3   CHAS     506 non-null    int64  \n",
      " 4   NX       506 non-null    float64\n",
      " 5   RM       506 non-null    float64\n",
      " 6   AGE      506 non-null    float64\n",
      " 7   DIS      506 non-null    float64\n",
      " 8   RAD      506 non-null    int64  \n",
      " 9   TAX      506 non-null    float64\n",
      " 10  PTRATIO  506 non-null    float64\n",
      " 11  B        506 non-null    float64\n",
      " 12  LSTAT    506 non-null    float64\n",
      " 13  MEDV     506 non-null    float64\n",
      "dtypes: float64(12), int64(2)\n",
      "memory usage: 55.5 KB\n"
     ]
    }
   ],
   "source": [
    "house.info()"
   ]
  },
  {
   "cell_type": "code",
   "execution_count": 6,
   "id": "30d7cc94",
   "metadata": {
    "execution": {
     "iopub.execute_input": "2025-02-08T10:14:26.910509Z",
     "iopub.status.busy": "2025-02-08T10:14:26.910171Z",
     "iopub.status.idle": "2025-02-08T10:14:26.915798Z",
     "shell.execute_reply": "2025-02-08T10:14:26.914833Z"
    },
    "papermill": {
     "duration": 0.012874,
     "end_time": "2025-02-08T10:14:26.917387",
     "exception": false,
     "start_time": "2025-02-08T10:14:26.904513",
     "status": "completed"
    },
    "tags": []
   },
   "outputs": [
    {
     "data": {
      "text/plain": [
       "Index(['CRIM', 'ZN', 'INDUS', 'CHAS', 'NX', 'RM', 'AGE', 'DIS', 'RAD', 'TAX',\n",
       "       'PTRATIO', 'B', 'LSTAT', 'MEDV'],\n",
       "      dtype='object')"
      ]
     },
     "execution_count": 6,
     "metadata": {},
     "output_type": "execute_result"
    }
   ],
   "source": [
    "house.columns"
   ]
  },
  {
   "cell_type": "code",
   "execution_count": 7,
   "id": "9c2356d5",
   "metadata": {
    "execution": {
     "iopub.execute_input": "2025-02-08T10:14:26.928692Z",
     "iopub.status.busy": "2025-02-08T10:14:26.928353Z",
     "iopub.status.idle": "2025-02-08T10:14:26.932684Z",
     "shell.execute_reply": "2025-02-08T10:14:26.931629Z"
    },
    "papermill": {
     "duration": 0.011653,
     "end_time": "2025-02-08T10:14:26.934331",
     "exception": false,
     "start_time": "2025-02-08T10:14:26.922678",
     "status": "completed"
    },
    "tags": []
   },
   "outputs": [],
   "source": [
    "y = house['MEDV']\n"
   ]
  },
  {
   "cell_type": "code",
   "execution_count": 8,
   "id": "7b4f9691",
   "metadata": {
    "execution": {
     "iopub.execute_input": "2025-02-08T10:14:26.945480Z",
     "iopub.status.busy": "2025-02-08T10:14:26.945142Z",
     "iopub.status.idle": "2025-02-08T10:14:26.968427Z",
     "shell.execute_reply": "2025-02-08T10:14:26.967265Z"
    },
    "papermill": {
     "duration": 0.030738,
     "end_time": "2025-02-08T10:14:26.970201",
     "exception": false,
     "start_time": "2025-02-08T10:14:26.939463",
     "status": "completed"
    },
    "tags": []
   },
   "outputs": [
    {
     "data": {
      "text/html": [
       "<div>\n",
       "<style scoped>\n",
       "    .dataframe tbody tr th:only-of-type {\n",
       "        vertical-align: middle;\n",
       "    }\n",
       "\n",
       "    .dataframe tbody tr th {\n",
       "        vertical-align: top;\n",
       "    }\n",
       "\n",
       "    .dataframe thead th {\n",
       "        text-align: right;\n",
       "    }\n",
       "</style>\n",
       "<table border=\"1\" class=\"dataframe\">\n",
       "  <thead>\n",
       "    <tr style=\"text-align: right;\">\n",
       "      <th></th>\n",
       "      <th>CRIM</th>\n",
       "      <th>ZN</th>\n",
       "      <th>INDUS</th>\n",
       "      <th>CHAS</th>\n",
       "      <th>NX</th>\n",
       "      <th>RM</th>\n",
       "      <th>AGE</th>\n",
       "      <th>DIS</th>\n",
       "      <th>RAD</th>\n",
       "      <th>TAX</th>\n",
       "      <th>PTRATIO</th>\n",
       "      <th>B</th>\n",
       "      <th>LSTAT</th>\n",
       "    </tr>\n",
       "  </thead>\n",
       "  <tbody>\n",
       "    <tr>\n",
       "      <th>0</th>\n",
       "      <td>0.00632</td>\n",
       "      <td>18.0</td>\n",
       "      <td>2.31</td>\n",
       "      <td>0</td>\n",
       "      <td>0.538</td>\n",
       "      <td>6.575</td>\n",
       "      <td>65.2</td>\n",
       "      <td>4.0900</td>\n",
       "      <td>1</td>\n",
       "      <td>296.0</td>\n",
       "      <td>15.3</td>\n",
       "      <td>396.90</td>\n",
       "      <td>4.98</td>\n",
       "    </tr>\n",
       "    <tr>\n",
       "      <th>1</th>\n",
       "      <td>0.02731</td>\n",
       "      <td>0.0</td>\n",
       "      <td>7.07</td>\n",
       "      <td>0</td>\n",
       "      <td>0.469</td>\n",
       "      <td>6.421</td>\n",
       "      <td>78.9</td>\n",
       "      <td>4.9671</td>\n",
       "      <td>2</td>\n",
       "      <td>242.0</td>\n",
       "      <td>17.8</td>\n",
       "      <td>396.90</td>\n",
       "      <td>9.14</td>\n",
       "    </tr>\n",
       "    <tr>\n",
       "      <th>2</th>\n",
       "      <td>0.02729</td>\n",
       "      <td>0.0</td>\n",
       "      <td>7.07</td>\n",
       "      <td>0</td>\n",
       "      <td>0.469</td>\n",
       "      <td>7.185</td>\n",
       "      <td>61.1</td>\n",
       "      <td>4.9671</td>\n",
       "      <td>2</td>\n",
       "      <td>242.0</td>\n",
       "      <td>17.8</td>\n",
       "      <td>392.83</td>\n",
       "      <td>4.03</td>\n",
       "    </tr>\n",
       "    <tr>\n",
       "      <th>3</th>\n",
       "      <td>0.03237</td>\n",
       "      <td>0.0</td>\n",
       "      <td>2.18</td>\n",
       "      <td>0</td>\n",
       "      <td>0.458</td>\n",
       "      <td>6.998</td>\n",
       "      <td>45.8</td>\n",
       "      <td>6.0622</td>\n",
       "      <td>3</td>\n",
       "      <td>222.0</td>\n",
       "      <td>18.7</td>\n",
       "      <td>394.63</td>\n",
       "      <td>2.94</td>\n",
       "    </tr>\n",
       "    <tr>\n",
       "      <th>4</th>\n",
       "      <td>0.06905</td>\n",
       "      <td>0.0</td>\n",
       "      <td>2.18</td>\n",
       "      <td>0</td>\n",
       "      <td>0.458</td>\n",
       "      <td>7.147</td>\n",
       "      <td>54.2</td>\n",
       "      <td>6.0622</td>\n",
       "      <td>3</td>\n",
       "      <td>222.0</td>\n",
       "      <td>18.7</td>\n",
       "      <td>396.90</td>\n",
       "      <td>5.33</td>\n",
       "    </tr>\n",
       "    <tr>\n",
       "      <th>...</th>\n",
       "      <td>...</td>\n",
       "      <td>...</td>\n",
       "      <td>...</td>\n",
       "      <td>...</td>\n",
       "      <td>...</td>\n",
       "      <td>...</td>\n",
       "      <td>...</td>\n",
       "      <td>...</td>\n",
       "      <td>...</td>\n",
       "      <td>...</td>\n",
       "      <td>...</td>\n",
       "      <td>...</td>\n",
       "      <td>...</td>\n",
       "    </tr>\n",
       "    <tr>\n",
       "      <th>501</th>\n",
       "      <td>0.06263</td>\n",
       "      <td>0.0</td>\n",
       "      <td>11.93</td>\n",
       "      <td>0</td>\n",
       "      <td>0.573</td>\n",
       "      <td>6.593</td>\n",
       "      <td>69.1</td>\n",
       "      <td>2.4786</td>\n",
       "      <td>1</td>\n",
       "      <td>273.0</td>\n",
       "      <td>21.0</td>\n",
       "      <td>391.99</td>\n",
       "      <td>9.67</td>\n",
       "    </tr>\n",
       "    <tr>\n",
       "      <th>502</th>\n",
       "      <td>0.04527</td>\n",
       "      <td>0.0</td>\n",
       "      <td>11.93</td>\n",
       "      <td>0</td>\n",
       "      <td>0.573</td>\n",
       "      <td>6.120</td>\n",
       "      <td>76.7</td>\n",
       "      <td>2.2875</td>\n",
       "      <td>1</td>\n",
       "      <td>273.0</td>\n",
       "      <td>21.0</td>\n",
       "      <td>396.90</td>\n",
       "      <td>9.08</td>\n",
       "    </tr>\n",
       "    <tr>\n",
       "      <th>503</th>\n",
       "      <td>0.06076</td>\n",
       "      <td>0.0</td>\n",
       "      <td>11.93</td>\n",
       "      <td>0</td>\n",
       "      <td>0.573</td>\n",
       "      <td>6.976</td>\n",
       "      <td>91.0</td>\n",
       "      <td>2.1675</td>\n",
       "      <td>1</td>\n",
       "      <td>273.0</td>\n",
       "      <td>21.0</td>\n",
       "      <td>396.90</td>\n",
       "      <td>5.64</td>\n",
       "    </tr>\n",
       "    <tr>\n",
       "      <th>504</th>\n",
       "      <td>0.10959</td>\n",
       "      <td>0.0</td>\n",
       "      <td>11.93</td>\n",
       "      <td>0</td>\n",
       "      <td>0.573</td>\n",
       "      <td>6.794</td>\n",
       "      <td>89.3</td>\n",
       "      <td>2.3889</td>\n",
       "      <td>1</td>\n",
       "      <td>273.0</td>\n",
       "      <td>21.0</td>\n",
       "      <td>393.45</td>\n",
       "      <td>6.48</td>\n",
       "    </tr>\n",
       "    <tr>\n",
       "      <th>505</th>\n",
       "      <td>0.04741</td>\n",
       "      <td>0.0</td>\n",
       "      <td>11.93</td>\n",
       "      <td>0</td>\n",
       "      <td>0.573</td>\n",
       "      <td>6.030</td>\n",
       "      <td>80.8</td>\n",
       "      <td>2.5050</td>\n",
       "      <td>1</td>\n",
       "      <td>273.0</td>\n",
       "      <td>21.0</td>\n",
       "      <td>396.90</td>\n",
       "      <td>7.88</td>\n",
       "    </tr>\n",
       "  </tbody>\n",
       "</table>\n",
       "<p>506 rows × 13 columns</p>\n",
       "</div>"
      ],
      "text/plain": [
       "        CRIM    ZN  INDUS  CHAS     NX     RM   AGE     DIS  RAD    TAX  \\\n",
       "0    0.00632  18.0   2.31     0  0.538  6.575  65.2  4.0900    1  296.0   \n",
       "1    0.02731   0.0   7.07     0  0.469  6.421  78.9  4.9671    2  242.0   \n",
       "2    0.02729   0.0   7.07     0  0.469  7.185  61.1  4.9671    2  242.0   \n",
       "3    0.03237   0.0   2.18     0  0.458  6.998  45.8  6.0622    3  222.0   \n",
       "4    0.06905   0.0   2.18     0  0.458  7.147  54.2  6.0622    3  222.0   \n",
       "..       ...   ...    ...   ...    ...    ...   ...     ...  ...    ...   \n",
       "501  0.06263   0.0  11.93     0  0.573  6.593  69.1  2.4786    1  273.0   \n",
       "502  0.04527   0.0  11.93     0  0.573  6.120  76.7  2.2875    1  273.0   \n",
       "503  0.06076   0.0  11.93     0  0.573  6.976  91.0  2.1675    1  273.0   \n",
       "504  0.10959   0.0  11.93     0  0.573  6.794  89.3  2.3889    1  273.0   \n",
       "505  0.04741   0.0  11.93     0  0.573  6.030  80.8  2.5050    1  273.0   \n",
       "\n",
       "     PTRATIO       B  LSTAT  \n",
       "0       15.3  396.90   4.98  \n",
       "1       17.8  396.90   9.14  \n",
       "2       17.8  392.83   4.03  \n",
       "3       18.7  394.63   2.94  \n",
       "4       18.7  396.90   5.33  \n",
       "..       ...     ...    ...  \n",
       "501     21.0  391.99   9.67  \n",
       "502     21.0  396.90   9.08  \n",
       "503     21.0  396.90   5.64  \n",
       "504     21.0  393.45   6.48  \n",
       "505     21.0  396.90   7.88  \n",
       "\n",
       "[506 rows x 13 columns]"
      ]
     },
     "execution_count": 8,
     "metadata": {},
     "output_type": "execute_result"
    }
   ],
   "source": [
    " house.drop(['MEDV'],axis=1)"
   ]
  },
  {
   "cell_type": "code",
   "execution_count": 9,
   "id": "b67210d7",
   "metadata": {
    "execution": {
     "iopub.execute_input": "2025-02-08T10:14:26.981919Z",
     "iopub.status.busy": "2025-02-08T10:14:26.981550Z",
     "iopub.status.idle": "2025-02-08T10:14:26.985253Z",
     "shell.execute_reply": "2025-02-08T10:14:26.984381Z"
    },
    "papermill": {
     "duration": 0.011246,
     "end_time": "2025-02-08T10:14:26.986821",
     "exception": false,
     "start_time": "2025-02-08T10:14:26.975575",
     "status": "completed"
    },
    "tags": []
   },
   "outputs": [],
   "source": [
    "x = house"
   ]
  },
  {
   "cell_type": "code",
   "execution_count": 10,
   "id": "bc62c320",
   "metadata": {
    "execution": {
     "iopub.execute_input": "2025-02-08T10:14:26.998391Z",
     "iopub.status.busy": "2025-02-08T10:14:26.998100Z",
     "iopub.status.idle": "2025-02-08T10:14:28.436991Z",
     "shell.execute_reply": "2025-02-08T10:14:28.435927Z"
    },
    "papermill": {
     "duration": 1.446757,
     "end_time": "2025-02-08T10:14:28.438970",
     "exception": false,
     "start_time": "2025-02-08T10:14:26.992213",
     "status": "completed"
    },
    "tags": []
   },
   "outputs": [],
   "source": [
    "from sklearn.model_selection import train_test_split\n",
    "x_train, x_test, y_train, y_test = train_test_split(x,y, train_size=0.7, random_state=25)"
   ]
  },
  {
   "cell_type": "code",
   "execution_count": 11,
   "id": "8d5c65bd",
   "metadata": {
    "execution": {
     "iopub.execute_input": "2025-02-08T10:14:28.451060Z",
     "iopub.status.busy": "2025-02-08T10:14:28.450540Z",
     "iopub.status.idle": "2025-02-08T10:14:28.456528Z",
     "shell.execute_reply": "2025-02-08T10:14:28.455517Z"
    },
    "papermill": {
     "duration": 0.013689,
     "end_time": "2025-02-08T10:14:28.458156",
     "exception": false,
     "start_time": "2025-02-08T10:14:28.444467",
     "status": "completed"
    },
    "tags": []
   },
   "outputs": [
    {
     "data": {
      "text/plain": [
       "((354, 14), (152, 14), (354,), (152,))"
      ]
     },
     "execution_count": 11,
     "metadata": {},
     "output_type": "execute_result"
    }
   ],
   "source": [
    "x_train.shape, x_test.shape, y_train.shape, y_test.shape\n"
   ]
  },
  {
   "cell_type": "code",
   "execution_count": 12,
   "id": "b31518b2",
   "metadata": {
    "execution": {
     "iopub.execute_input": "2025-02-08T10:14:28.469867Z",
     "iopub.status.busy": "2025-02-08T10:14:28.469474Z",
     "iopub.status.idle": "2025-02-08T10:14:28.570300Z",
     "shell.execute_reply": "2025-02-08T10:14:28.569252Z"
    },
    "papermill": {
     "duration": 0.108591,
     "end_time": "2025-02-08T10:14:28.572046",
     "exception": false,
     "start_time": "2025-02-08T10:14:28.463455",
     "status": "completed"
    },
    "tags": []
   },
   "outputs": [],
   "source": [
    "from sklearn.linear_model import LinearRegression\n",
    "model = LinearRegression()"
   ]
  },
  {
   "cell_type": "code",
   "execution_count": 13,
   "id": "75cc130c",
   "metadata": {
    "execution": {
     "iopub.execute_input": "2025-02-08T10:14:28.583974Z",
     "iopub.status.busy": "2025-02-08T10:14:28.583522Z",
     "iopub.status.idle": "2025-02-08T10:14:28.647753Z",
     "shell.execute_reply": "2025-02-08T10:14:28.646700Z"
    },
    "papermill": {
     "duration": 0.072124,
     "end_time": "2025-02-08T10:14:28.649484",
     "exception": false,
     "start_time": "2025-02-08T10:14:28.577360",
     "status": "completed"
    },
    "tags": []
   },
   "outputs": [
    {
     "data": {
      "text/html": [
       "<style>#sk-container-id-1 {color: black;background-color: white;}#sk-container-id-1 pre{padding: 0;}#sk-container-id-1 div.sk-toggleable {background-color: white;}#sk-container-id-1 label.sk-toggleable__label {cursor: pointer;display: block;width: 100%;margin-bottom: 0;padding: 0.3em;box-sizing: border-box;text-align: center;}#sk-container-id-1 label.sk-toggleable__label-arrow:before {content: \"▸\";float: left;margin-right: 0.25em;color: #696969;}#sk-container-id-1 label.sk-toggleable__label-arrow:hover:before {color: black;}#sk-container-id-1 div.sk-estimator:hover label.sk-toggleable__label-arrow:before {color: black;}#sk-container-id-1 div.sk-toggleable__content {max-height: 0;max-width: 0;overflow: hidden;text-align: left;background-color: #f0f8ff;}#sk-container-id-1 div.sk-toggleable__content pre {margin: 0.2em;color: black;border-radius: 0.25em;background-color: #f0f8ff;}#sk-container-id-1 input.sk-toggleable__control:checked~div.sk-toggleable__content {max-height: 200px;max-width: 100%;overflow: auto;}#sk-container-id-1 input.sk-toggleable__control:checked~label.sk-toggleable__label-arrow:before {content: \"▾\";}#sk-container-id-1 div.sk-estimator input.sk-toggleable__control:checked~label.sk-toggleable__label {background-color: #d4ebff;}#sk-container-id-1 div.sk-label input.sk-toggleable__control:checked~label.sk-toggleable__label {background-color: #d4ebff;}#sk-container-id-1 input.sk-hidden--visually {border: 0;clip: rect(1px 1px 1px 1px);clip: rect(1px, 1px, 1px, 1px);height: 1px;margin: -1px;overflow: hidden;padding: 0;position: absolute;width: 1px;}#sk-container-id-1 div.sk-estimator {font-family: monospace;background-color: #f0f8ff;border: 1px dotted black;border-radius: 0.25em;box-sizing: border-box;margin-bottom: 0.5em;}#sk-container-id-1 div.sk-estimator:hover {background-color: #d4ebff;}#sk-container-id-1 div.sk-parallel-item::after {content: \"\";width: 100%;border-bottom: 1px solid gray;flex-grow: 1;}#sk-container-id-1 div.sk-label:hover label.sk-toggleable__label {background-color: #d4ebff;}#sk-container-id-1 div.sk-serial::before {content: \"\";position: absolute;border-left: 1px solid gray;box-sizing: border-box;top: 0;bottom: 0;left: 50%;z-index: 0;}#sk-container-id-1 div.sk-serial {display: flex;flex-direction: column;align-items: center;background-color: white;padding-right: 0.2em;padding-left: 0.2em;position: relative;}#sk-container-id-1 div.sk-item {position: relative;z-index: 1;}#sk-container-id-1 div.sk-parallel {display: flex;align-items: stretch;justify-content: center;background-color: white;position: relative;}#sk-container-id-1 div.sk-item::before, #sk-container-id-1 div.sk-parallel-item::before {content: \"\";position: absolute;border-left: 1px solid gray;box-sizing: border-box;top: 0;bottom: 0;left: 50%;z-index: -1;}#sk-container-id-1 div.sk-parallel-item {display: flex;flex-direction: column;z-index: 1;position: relative;background-color: white;}#sk-container-id-1 div.sk-parallel-item:first-child::after {align-self: flex-end;width: 50%;}#sk-container-id-1 div.sk-parallel-item:last-child::after {align-self: flex-start;width: 50%;}#sk-container-id-1 div.sk-parallel-item:only-child::after {width: 0;}#sk-container-id-1 div.sk-dashed-wrapped {border: 1px dashed gray;margin: 0 0.4em 0.5em 0.4em;box-sizing: border-box;padding-bottom: 0.4em;background-color: white;}#sk-container-id-1 div.sk-label label {font-family: monospace;font-weight: bold;display: inline-block;line-height: 1.2em;}#sk-container-id-1 div.sk-label-container {text-align: center;}#sk-container-id-1 div.sk-container {/* jupyter's `normalize.less` sets `[hidden] { display: none; }` but bootstrap.min.css set `[hidden] { display: none !important; }` so we also need the `!important` here to be able to override the default hidden behavior on the sphinx rendered scikit-learn.org. See: https://github.com/scikit-learn/scikit-learn/issues/21755 */display: inline-block !important;position: relative;}#sk-container-id-1 div.sk-text-repr-fallback {display: none;}</style><div id=\"sk-container-id-1\" class=\"sk-top-container\"><div class=\"sk-text-repr-fallback\"><pre>LinearRegression()</pre><b>In a Jupyter environment, please rerun this cell to show the HTML representation or trust the notebook. <br />On GitHub, the HTML representation is unable to render, please try loading this page with nbviewer.org.</b></div><div class=\"sk-container\" hidden><div class=\"sk-item\"><div class=\"sk-estimator sk-toggleable\"><input class=\"sk-toggleable__control sk-hidden--visually\" id=\"sk-estimator-id-1\" type=\"checkbox\" checked><label for=\"sk-estimator-id-1\" class=\"sk-toggleable__label sk-toggleable__label-arrow\">LinearRegression</label><div class=\"sk-toggleable__content\"><pre>LinearRegression()</pre></div></div></div></div></div>"
      ],
      "text/plain": [
       "LinearRegression()"
      ]
     },
     "execution_count": 13,
     "metadata": {},
     "output_type": "execute_result"
    }
   ],
   "source": [
    "model.fit(x_train,y_train)\n"
   ]
  },
  {
   "cell_type": "code",
   "execution_count": 14,
   "id": "557c7d04",
   "metadata": {
    "execution": {
     "iopub.execute_input": "2025-02-08T10:14:28.661678Z",
     "iopub.status.busy": "2025-02-08T10:14:28.661361Z",
     "iopub.status.idle": "2025-02-08T10:14:28.667270Z",
     "shell.execute_reply": "2025-02-08T10:14:28.666509Z"
    },
    "papermill": {
     "duration": 0.013661,
     "end_time": "2025-02-08T10:14:28.668693",
     "exception": false,
     "start_time": "2025-02-08T10:14:28.655032",
     "status": "completed"
    },
    "tags": []
   },
   "outputs": [
    {
     "data": {
      "text/plain": [
       "array([ 3.98990334e-16,  6.09548192e-16,  1.40928545e-15,  9.85136149e-15,\n",
       "        1.83273172e-14,  2.43390265e-15, -1.60632156e-16,  8.49533542e-16,\n",
       "       -4.36657820e-16, -1.63713351e-16,  4.07804012e-16, -5.49337857e-16,\n",
       "       -6.47002795e-17,  1.00000000e+00])"
      ]
     },
     "execution_count": 14,
     "metadata": {},
     "output_type": "execute_result"
    }
   ],
   "source": [
    "model.coef_\n"
   ]
  },
  {
   "cell_type": "code",
   "execution_count": 15,
   "id": "fed845ca",
   "metadata": {
    "execution": {
     "iopub.execute_input": "2025-02-08T10:14:28.680956Z",
     "iopub.status.busy": "2025-02-08T10:14:28.680577Z",
     "iopub.status.idle": "2025-02-08T10:14:28.687536Z",
     "shell.execute_reply": "2025-02-08T10:14:28.686601Z"
    },
    "papermill": {
     "duration": 0.014636,
     "end_time": "2025-02-08T10:14:28.689071",
     "exception": false,
     "start_time": "2025-02-08T10:14:28.674435",
     "status": "completed"
    },
    "tags": []
   },
   "outputs": [],
   "source": [
    "y_pred = model.predict(x_test)\n"
   ]
  },
  {
   "cell_type": "code",
   "execution_count": 16,
   "id": "1de86429",
   "metadata": {
    "execution": {
     "iopub.execute_input": "2025-02-08T10:14:28.701040Z",
     "iopub.status.busy": "2025-02-08T10:14:28.700636Z",
     "iopub.status.idle": "2025-02-08T10:14:28.707086Z",
     "shell.execute_reply": "2025-02-08T10:14:28.706100Z"
    },
    "papermill": {
     "duration": 0.013884,
     "end_time": "2025-02-08T10:14:28.708530",
     "exception": false,
     "start_time": "2025-02-08T10:14:28.694646",
     "status": "completed"
    },
    "tags": []
   },
   "outputs": [
    {
     "data": {
      "text/plain": [
       "array([21.4, 19.1, 25. , 10.5, 20. , 28.1, 32.4, 13.6,  9.5, 35.2, 14.5,\n",
       "       14. , 16. , 22.7, 35.1, 21. , 28.4,  8.8,  5. , 24.4, 22.9, 13.4,\n",
       "       30.1, 23.9, 50. , 23. , 46. , 24.7, 22.6, 20.8, 29.4, 30.8, 17.4,\n",
       "       27.5, 13.4, 20.1, 19.9, 20.6, 15. , 20.1, 18.7, 20.2, 13.4, 16.8,\n",
       "        7.5, 23.8, 21.5, 24.3, 32.7, 15.2, 22.5, 16.7, 32. , 18.3, 17.1,\n",
       "       11.7, 34.9, 23.7, 13.1, 29.8, 21.7, 16.8, 23.2, 16.2, 24.6, 11.5,\n",
       "       19.6, 50. , 23.9, 15. , 19.3, 22.6, 20. , 20.3, 50. , 22.8, 16.1,\n",
       "       29. , 23.9, 21.6, 22.3, 20.6, 32.9, 19.5, 10.4, 22. , 26.4, 23.1,\n",
       "       23.8, 19.2, 16.2, 20.4, 18.1, 17.6, 29.1, 19.4, 24.5, 25.1, 14.4,\n",
       "       29.9, 15.6, 21.4, 18.3, 16.1,  8.3, 14.5, 15.1, 33.4, 48.3, 20.5,\n",
       "       17.2, 22.3, 19.9, 20.1, 36.2, 39.8, 25. , 38.7, 22.9, 23.4, 21.5,\n",
       "       13.1, 22. , 18.4, 22.8, 27.1, 19.4, 18.8, 27.5, 50. ,  8.1, 34.9,\n",
       "       16.4, 13.5, 17.8, 45.4, 17.5, 19.1, 22.8, 23.2, 33.2, 29. , 18.5,\n",
       "       19.3, 12.5, 13.8, 15.6, 23.9, 28.2, 23.6, 24.7, 14.1])"
      ]
     },
     "execution_count": 16,
     "metadata": {},
     "output_type": "execute_result"
    }
   ],
   "source": [
    "y_pred\n"
   ]
  },
  {
   "cell_type": "code",
   "execution_count": 17,
   "id": "e2921e08",
   "metadata": {
    "execution": {
     "iopub.execute_input": "2025-02-08T10:14:28.720964Z",
     "iopub.status.busy": "2025-02-08T10:14:28.720577Z",
     "iopub.status.idle": "2025-02-08T10:14:28.724626Z",
     "shell.execute_reply": "2025-02-08T10:14:28.723632Z"
    },
    "papermill": {
     "duration": 0.011976,
     "end_time": "2025-02-08T10:14:28.726288",
     "exception": false,
     "start_time": "2025-02-08T10:14:28.714312",
     "status": "completed"
    },
    "tags": []
   },
   "outputs": [],
   "source": [
    "from sklearn.metrics import mean_absolute_error, r2_score , mean_squared_error\n"
   ]
  },
  {
   "cell_type": "code",
   "execution_count": 18,
   "id": "9bd64b64",
   "metadata": {
    "execution": {
     "iopub.execute_input": "2025-02-08T10:14:28.739157Z",
     "iopub.status.busy": "2025-02-08T10:14:28.738823Z",
     "iopub.status.idle": "2025-02-08T10:14:28.743586Z",
     "shell.execute_reply": "2025-02-08T10:14:28.742572Z"
    },
    "papermill": {
     "duration": 0.013007,
     "end_time": "2025-02-08T10:14:28.745231",
     "exception": false,
     "start_time": "2025-02-08T10:14:28.732224",
     "status": "completed"
    },
    "tags": []
   },
   "outputs": [],
   "source": [
    "score = r2_score(y_test, y_pred)\n"
   ]
  },
  {
   "cell_type": "code",
   "execution_count": 19,
   "id": "4350f1bf",
   "metadata": {
    "execution": {
     "iopub.execute_input": "2025-02-08T10:14:28.758358Z",
     "iopub.status.busy": "2025-02-08T10:14:28.758046Z",
     "iopub.status.idle": "2025-02-08T10:14:28.762576Z",
     "shell.execute_reply": "2025-02-08T10:14:28.761376Z"
    },
    "papermill": {
     "duration": 0.013116,
     "end_time": "2025-02-08T10:14:28.764226",
     "exception": false,
     "start_time": "2025-02-08T10:14:28.751110",
     "status": "completed"
    },
    "tags": []
   },
   "outputs": [
    {
     "name": "stdout",
     "output_type": "stream",
     "text": [
      "1.0\n"
     ]
    }
   ],
   "source": [
    "print(score)\n"
   ]
  },
  {
   "cell_type": "markdown",
   "id": "96ac912f",
   "metadata": {
    "papermill": {
     "duration": 0.005491,
     "end_time": "2025-02-08T10:14:28.775471",
     "exception": false,
     "start_time": "2025-02-08T10:14:28.769980",
     "status": "completed"
    },
    "tags": []
   },
   "source": [
    "*My model is overfitting :-)*"
   ]
  },
  {
   "cell_type": "code",
   "execution_count": 20,
   "id": "309c7583",
   "metadata": {
    "execution": {
     "iopub.execute_input": "2025-02-08T10:14:28.787683Z",
     "iopub.status.busy": "2025-02-08T10:14:28.787362Z",
     "iopub.status.idle": "2025-02-08T10:14:29.028221Z",
     "shell.execute_reply": "2025-02-08T10:14:29.027144Z"
    },
    "papermill": {
     "duration": 0.248844,
     "end_time": "2025-02-08T10:14:29.029882",
     "exception": false,
     "start_time": "2025-02-08T10:14:28.781038",
     "status": "completed"
    },
    "tags": []
   },
   "outputs": [
    {
     "data": {
      "text/plain": [
       "[<matplotlib.lines.Line2D at 0x7d125f039f00>]"
      ]
     },
     "execution_count": 20,
     "metadata": {},
     "output_type": "execute_result"
    },
    {
     "data": {
      "image/png": "[encoded data removed]",
      "text/plain": [
       "<Figure size 640x480 with 1 Axes>"
      ]
     },
     "metadata": {},
     "output_type": "display_data"
    }
   ],
   "source": [
    "mpl.scatter(y_train,y_train)\n",
    "mpl.plot(y_train,model.predict(x_train))"
   ]
  },
  {
   "cell_type": "code",
   "execution_count": null,
   "id": "af257be6",
   "metadata": {
    "papermill": {
     "duration": 0.005882,
     "end_time": "2025-02-08T10:14:29.042240",
     "exception": false,
     "start_time": "2025-02-08T10:14:29.036358",
     "status": "completed"
    },
    "tags": []
   },
   "outputs": [],
   "source": []
  }
 ],
 "metadata": {
  "kaggle": {
   "accelerator": "none",
   "dataSources": [],
   "dockerImageVersionId": 30886,
   "isGpuEnabled": false,
   "isInternetEnabled": true,
   "language": "python",
   "sourceType": "notebook"
  },
  "kernelspec": {
   "display_name": "Python 3",
   "language": "python",
   "name": "python3"
  },
  "language_info": {
   "codemirror_mode": {
    "name": "ipython",
    "version": 3
   },
   "file_extension": ".py",
   "mimetype": "text/x-python",
   "name": "python",
   "nbconvert_exporter": "python",
   "pygments_lexer": "ipython3",
   "version": "3.10.12"
  },
  "papermill": {
   "default_parameters": {},
   "duration": 7.059882,
   "end_time": "2025-02-08T10:14:29.768636",
   "environment_variables": {},
   "exception": null,
   "input_path": "__notebook__.ipynb",
   "output_path": "__notebook__.ipynb",
   "parameters": {},
   "start_time": "2025-02-08T10:14:22.708754",
   "version": "2.6.0"
  }
 },
 "nbformat": 4,
 "nbformat_minor": 5
}
